{
 "cells": [
  {
   "cell_type": "markdown",
   "metadata": {},
   "source": [
    "# Aqsis Examples #\n",
    "\n",
    "This notebook tries rendering some of the example scenes that come with [Aqsis](http://www.aqsis.org/), the Free Software implementation of Pixar’s RenderMan language. It assumes the relevant files are present in the usual place on a Debian installation; you may need to edit the relevant paths for some other OS.\n",
    "\n",
    "Besides Aqsis, you will need my my [ipy_magics](https://github.com/ldo/ipy_magics), specifically `rman_magic.py`, which provides an interface to Aqsis from a Jupyter notebook."
   ]
  },
  {
   "cell_type": "code",
   "execution_count": null,
   "metadata": {},
   "outputs": [],
   "source": [
    "# Edit this as appropriate for the correct path to the Python module\n",
    "%run ../ipy_magics/rman_magic.py"
   ]
  },
  {
   "cell_type": "markdown",
   "metadata": {},
   "source": [
    "## Your First Steps With Aqsis ## \n",
    "\n",
    "The following is adapted from “[Your First Steps with Aqsis](http://www.aqsis.org/documentation/tutorials/first_steps.html)”.\n",
    "\n",
    "First, the sphere is rendered with a constant colour:"
   ]
  },
  {
   "cell_type": "code",
   "execution_count": null,
   "metadata": {},
   "outputs": [],
   "source": [
    "%%rman\n",
    "%rib\n",
    "##RenderMan RIB-Structure 1.0\n",
    "\n",
    "%autodisplay\n",
    "\n",
    "FrameBegin 1\n",
    "\n",
    "Format 640 480 -1\n",
    "ShadingRate 1\n",
    "Projection \"perspective\" \"fov\" [30]\n",
    "FrameAspectRatio 1.33\n",
    "Identity\n",
    " \n",
    "# Default distant headlight\n",
    "LightSource \"distantlight\" 1\n",
    " \n",
    "# Camera transformation\n",
    "Translate 0 0 5\n",
    " \n",
    "WorldBegin\n",
    "\n",
    "Identity\n",
    "\n",
    "AttributeBegin\n",
    " \n",
    "Color [1.0 0.6 0.0] # A nice orange color\n",
    "Surface \"plastic\" \"Ka\" [1] \"Kd\" [0.5] \"Ks\" 1 \"roughness\" 0.1\n",
    "TransformBegin\n",
    "  Rotate 90 1 0 0   # Make +z point \"up\". The default camera coordinate system has\n",
    "  Sphere 1 -1 1 360 # +y up, but the Sphere primitive has its poles on the z axis.\n",
    "TransformEnd\n",
    "\n",
    "AttributeEnd\n",
    "\n",
    "WorldEnd\n",
    " \n",
    "FrameEnd"
   ]
  },
  {
   "cell_type": "markdown",
   "metadata": {},
   "source": [
    "Next, the material is changed to a custom shader using a blotchy Perlin noise, which is emissive (does not respond to lighting):"
   ]
  },
  {
   "cell_type": "code",
   "execution_count": null,
   "metadata": {},
   "outputs": [],
   "source": [
    "%%rman\n",
    "%sl simple_surface\n",
    "// A very simple SL surface shader\n",
    "surface simple_surface() {\n",
    "  Ci = noise(10*P);\n",
    "}\n",
    "%rib\n",
    "##RenderMan RIB-Structure 1.0\n",
    "\n",
    "%autodisplay\n",
    "\n",
    "FrameBegin 1\n",
    "\n",
    "Format 640 480 -1\n",
    "ShadingRate 1\n",
    "Projection \"perspective\" \"fov\" [30]\n",
    "FrameAspectRatio 1.33\n",
    "Identity\n",
    " \n",
    "# Default distant headlight\n",
    "LightSource \"distantlight\" 1\n",
    " \n",
    "# Camera transformation\n",
    "Translate 0 0 5\n",
    " \n",
    "WorldBegin\n",
    "\n",
    "Identity\n",
    "\n",
    "AttributeBegin\n",
    " \n",
    "Color [1.0 0.6 0.0] # A nice orange color\n",
    "Surface \"simple_surface\"\n",
    "TransformBegin\n",
    "  Rotate 90 1 0 0   # Make +z point \"up\". The default camera coordinate system has\n",
    "  Sphere 1 -1 1 360 # +y up, but the Sphere primitive has its poles on the z axis.\n",
    "TransformEnd\n",
    "\n",
    "AttributeEnd\n",
    "\n",
    "WorldEnd\n",
    " \n",
    "FrameEnd"
   ]
  },
  {
   "cell_type": "markdown",
   "metadata": {},
   "source": [
    "Change the material shader definition so it responds to lighting in a diffuse way:"
   ]
  },
  {
   "cell_type": "code",
   "execution_count": null,
   "metadata": {},
   "outputs": [],
   "source": [
    "%%rman\n",
    "%sl simple_surface\n",
    "// A very simple SL surface shader\n",
    "surface simple_surface() {\n",
    "  color Cd = noise(10*P);\n",
    "  Ci = Cd * diffuse(N);\n",
    "}\n",
    "%rib\n",
    "##RenderMan RIB-Structure 1.0\n",
    "\n",
    "%autodisplay\n",
    "\n",
    "FrameBegin 1\n",
    "\n",
    "Format 640 480 -1\n",
    "ShadingRate 1\n",
    "Projection \"perspective\" \"fov\" [30]\n",
    "FrameAspectRatio 1.33\n",
    "Identity\n",
    " \n",
    "# Default distant headlight\n",
    "LightSource \"distantlight\" 1\n",
    " \n",
    "# Camera transformation\n",
    "Translate 0 0 5\n",
    " \n",
    "WorldBegin\n",
    "\n",
    "Identity\n",
    "\n",
    "AttributeBegin\n",
    " \n",
    "Color [1.0 0.6 0.0] # A nice orange color\n",
    "Surface \"simple_surface\"\n",
    "TransformBegin\n",
    "  Rotate 90 1 0 0   # Make +z point \"up\". The default camera coordinate system has\n",
    "  Sphere 1 -1 1 360 # +y up, but the Sphere primitive has its poles on the z axis.\n",
    "TransformEnd\n",
    "\n",
    "AttributeEnd\n",
    "\n",
    "WorldEnd\n",
    " \n",
    "FrameEnd"
   ]
  },
  {
   "cell_type": "markdown",
   "metadata": {},
   "source": [
    "Now revert to the original shiny orange colour, and try applying a displacement shader to make the surface look bumpy:"
   ]
  },
  {
   "cell_type": "code",
   "execution_count": null,
   "metadata": {},
   "outputs": [],
   "source": [
    "%%rman\n",
    "%sl simple_displacement\n",
    "// A very simple SL displacement shader\n",
    "displacement simple_displacement() {\n",
    "  point Ptex = P + noise(P*2);\n",
    "  P = P + N * 0.05 * float noise(20*Ptex);\n",
    "  N = calculatenormal(P);  \n",
    "}\n",
    "%rib\n",
    "##RenderMan RIB-Structure 1.0\n",
    "\n",
    "%autodisplay\n",
    "\n",
    "FrameBegin 1\n",
    "\n",
    "Format 640 480 -1\n",
    "ShadingRate 1\n",
    "Projection \"perspective\" \"fov\" [30]\n",
    "FrameAspectRatio 1.33\n",
    "Identity\n",
    " \n",
    "# Default distant headlight\n",
    "LightSource \"distantlight\" 1\n",
    " \n",
    "# Camera transformation\n",
    "Translate 0 0 5\n",
    " \n",
    "WorldBegin\n",
    "\n",
    "Identity\n",
    "\n",
    "AttributeBegin\n",
    " \n",
    "Color [1.0 0.6 0.0] # A nice orange color\n",
    "# Displacement bounds, important for correct rendering\n",
    "Attribute \"displacementbound\" \"float sphere\" [0.1] \"coordinatesystem\" [\"shader\"]\n",
    "Surface \"plastic\" \"Ka\" [1] \"Kd\" [0.5] \"Ks\" 1 \"roughness\" 0.1\n",
    "Displacement \"simple_displacement\"\n",
    "TransformBegin\n",
    "  Rotate 90 1 0 0   # Make +z point \"up\". The default camera coordinate system has\n",
    "  Sphere 1 -1 1 360 # +y up, but the Sphere primitive has its poles on the z axis.\n",
    "TransformEnd\n",
    "\n",
    "AttributeEnd\n",
    "\n",
    "WorldEnd\n",
    " \n",
    "FrameEnd"
   ]
  },
  {
   "cell_type": "markdown",
   "metadata": {},
   "source": [
    "## Vase Example #"
   ]
  },
  {
   "cell_type": "code",
   "execution_count": null,
   "metadata": {},
   "outputs": [],
   "source": [
    "%%rman --source-search=\"&:/usr/share/aqsis/examples/scenes/vase:/usr/share/aqsis/shaders\"\n",
    "%slfile displacement/dented.sl\n",
    "%slfile light/shadowspot.sl\n",
    "%ribfile vase.rib\n"
   ]
  },
  {
   "cell_type": "markdown",
   "metadata": {},
   "source": [
    "## Fisheye Example ##"
   ]
  },
  {
   "cell_type": "code",
   "execution_count": null,
   "metadata": {},
   "outputs": [],
   "source": [
    "%%rman --resource-search=\"/usr/share/aqsis/examples/scenes/fisheye:&\" --verbose=0\n",
    "%slfile fisheye_projection.sl\n",
    "%ribfile envmap.rib\n",
    "%ribfile fisheye.rib\n",
    "%ribfile scene.rib\n"
   ]
  },
  {
   "cell_type": "markdown",
   "metadata": {},
   "source": [
    "## Bicycle Example ##"
   ]
  },
  {
   "cell_type": "code",
   "execution_count": null,
   "metadata": {},
   "outputs": [],
   "source": [
    "%%rman --resource-search=/usr/share/aqsis/examples/features/archives\n",
    "%ribfile --autodisplay bike.rib"
   ]
  },
  {
   "cell_type": "markdown",
   "metadata": {},
   "source": [
    "## Constructive Solid Geometry Example ##"
   ]
  },
  {
   "cell_type": "code",
   "execution_count": null,
   "metadata": {},
   "outputs": [],
   "source": [
    "%%rman\n",
    "%ribfile /usr/share/aqsis/examples/features/solidmodeling/csg.rib"
   ]
  },
  {
   "cell_type": "markdown",
   "metadata": {},
   "source": [
    "## The (In)Famous Cornell Box ##\n",
    "\n",
    "Note that this render can be quite slow, taking nearly a minute on my machine."
   ]
  },
  {
   "cell_type": "code",
   "execution_count": null,
   "metadata": {},
   "outputs": [],
   "source": [
    "%%rman --timed --resource-search=\"&:/usr/share/aqsis/examples/point_based_gi/cornellbox\" --archive-search=\"&:/usr/share/aqsis/examples/point_based_gi/cornellbox\"\n",
    "%slfile ao.sl\n",
    "%slfile bake_points.sl\n",
    "%slfile indirect.sl\n",
    "%ribfile all_passes.rib"
   ]
  },
  {
   "cell_type": "code",
   "execution_count": null,
   "metadata": {},
   "outputs": [],
   "source": []
  }
 ],
 "metadata": {
  "kernelspec": {
   "display_name": "Python 3",
   "language": "python",
   "name": "python3"
  },
  "language_info": {
   "codemirror_mode": {
    "name": "ipython",
    "version": 3
   },
   "file_extension": ".py",
   "mimetype": "text/x-python",
   "name": "python",
   "nbconvert_exporter": "python",
   "pygments_lexer": "ipython3",
   "version": "3.7.3rc1"
  }
 },
 "nbformat": 4,
 "nbformat_minor": 1
}
