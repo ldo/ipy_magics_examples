{
 "cells": [
  {
   "cell_type": "markdown",
   "metadata": {},
   "source": [
    "# PostScript Examples #\n",
    "\n",
    "This notebook shows some examples of using the ancient [PostScript](https://en.wikipedia.org/wiki/PostScript) graphical programming language in a Jupyter notebook. To run it, you will need my [ipy_magics](https://gitlab.com/ldo/ipy_magics), specifically `ps_magic.py`, and the [Ghostscript](http://www.ghostscript.com/) PostScript interpreter."
   ]
  },
  {
   "cell_type": "code",
   "execution_count": null,
   "metadata": {},
   "outputs": [],
   "source": [
    "# Edit this as appropriate for the correct path to the Python module\n",
    "%run ../ipy_magics/ps_magic.py"
   ]
  },
  {
   "cell_type": "markdown",
   "metadata": {},
   "source": [
    "Colour Pies:"
   ]
  },
  {
   "cell_type": "code",
   "execution_count": null,
   "metadata": {},
   "outputs": [],
   "source": [
    "%%ps --papersize=500x250\n",
    "/explode % explodes an array or dictionary into its components.\n",
    "  {\n",
    "    {} forall\n",
    "  }\n",
    "def % explode\n",
    "\n",
    "/CMYK % array of procedures for trying each CMYK colour in turn\n",
    "  [\n",
    "      [\n",
    "        [1.0 0.0 0.0 0.0]\n",
    "        [0.0 1.0 0.0 0.0]\n",
    "        [0.0 0.0 1.0 0.0]\n",
    "        [0.0 0.0 0.0 1.0]\n",
    "      ]\n",
    "      { % forall\n",
    "        explode /setcmykcolor load\n",
    "        5 array astore cvx\n",
    "      }\n",
    "    forall\n",
    "  ]\n",
    "def % CMYK\n",
    "\n",
    "/RGB % array of procedures for trying each RGB colour in turn.\n",
    "  [\n",
    "      [\n",
    "        [1.0 0.0 0.0]\n",
    "        [0.0 1.0 0.0]\n",
    "        [0.0 0.0 1.0]\n",
    "      ]\n",
    "      { % forall\n",
    "        explode /setrgbcolor load\n",
    "        4 array astore cvx\n",
    "      }\n",
    "    forall\n",
    "  ]\n",
    "def % RGB\n",
    "\n",
    "/PieSegments % x y r Colors PieSegments --\n",
    "  {\n",
    "    LocalDict % placeholder for local dictionary\n",
    "    begin\n",
    "    /Colors exch def\n",
    "    /Radius exch def\n",
    "    /YCenter exch def\n",
    "    /XCenter exch def\n",
    "    /NrColors Colors length def\n",
    "    /AngleStep 360 NrColors div def\n",
    "    /CurAngle -15 def\n",
    "    /Index 0 def\n",
    "      { % loop\n",
    "        Index NrColors eq {exit} if\n",
    "        Colors Index get exec\n",
    "        newpath\n",
    "        XCenter YCenter moveto\n",
    "        XCenter YCenter Radius CurAngle dup AngleStep add arc\n",
    "        XCenter YCenter lineto\n",
    "        fill\n",
    "        /CurAngle CurAngle AngleStep add def\n",
    "        /Index Index 1 add def\n",
    "      }\n",
    "    loop\n",
    "    end % LocalDict\n",
    "  }\n",
    "dup 0 10 dict put % create and insert LocalDict\n",
    "def % PieSegments\n",
    "\n",
    "120 120 100 CMYK PieSegments\n",
    "370 120 100 RGB PieSegments\n",
    "\n",
    "showpage\n"
   ]
  },
  {
   "cell_type": "markdown",
   "metadata": {},
   "source": [
    "HTML-formatted output:"
   ]
  },
  {
   "cell_type": "code",
   "execution_count": null,
   "metadata": {},
   "outputs": [],
   "source": [
    "%%ps --text=html\n",
    "/TempStr 31 string def\n",
    "(<table style=\"width: 75%\">\\n<tr><th colspan=\"2\" style=\"text-align: center\">Dimensional Analysis</th></tr>\\n) print\n",
    "1 1 3\n",
    "  {\n",
    "    (<tr><td style=\"text-align: center\">$E = mc) print\n",
    "    dup 1 ne\n",
    "        {(^) print dup TempStr cvs print}\n",
    "    if\n",
    "    ($</td><td style=\"text-align: center\">) print\n",
    "    2 eq\n",
    "        {(<b>Possible</b>)}\n",
    "        {(Rubbish)}\n",
    "    ifelse\n",
    "    print\n",
    "    (</td></tr>\\n) print\n",
    "  }\n",
    "for\n",
    "(</table>\\n) print\n",
    "flush\n"
   ]
  },
  {
   "cell_type": "markdown",
   "metadata": {},
   "source": [
    "[Blue Book](https://www-cdf.fnal.gov/offline/PostScript/BLUEBOOK.PDF) example program 1, slightly adapted: wedges:"
   ]
  },
  {
   "cell_type": "code",
   "execution_count": null,
   "metadata": {},
   "outputs": [],
   "source": [
    "%%ps --papersize=350x400\n",
    "/inch\n",
    "    {72 mul}\n",
    "def\n",
    "\n",
    "/wedge\n",
    "  {\n",
    "    newpath\n",
    "    0 0 moveto\n",
    "    1 0 translate\n",
    "    15 rotate\n",
    "    0 15 sin translate\n",
    "    0 0 15 sin -90 90 arc\n",
    "    closepath\n",
    "  }\n",
    "def % wedge\n",
    "\n",
    "gsave\n",
    "2.5 inch 2.5 inch translate\n",
    "1.75 inch 1.75 inch scale\n",
    "0.02 setlinewidth\n",
    "1 1 12\n",
    "  { % for\n",
    "    12 div 0.5 0.9 sethsbcolor\n",
    "    gsave\n",
    "    wedge\n",
    "    gsave fill grestore\n",
    "    0 setgray stroke\n",
    "    grestore\n",
    "    30 rotate\n",
    "  }\n",
    "for\n",
    "grestore\n",
    "\n",
    "showpage\n"
   ]
  },
  {
   "cell_type": "code",
   "execution_count": null,
   "metadata": {},
   "outputs": [],
   "source": []
  }
 ],
 "metadata": {
  "kernelspec": {
   "display_name": "Python 3 (ipykernel)",
   "language": "python",
   "name": "python3"
  },
  "language_info": {
   "codemirror_mode": {
    "name": "ipython",
    "version": 3
   },
   "file_extension": ".py",
   "mimetype": "text/x-python",
   "name": "python",
   "nbconvert_exporter": "python",
   "pygments_lexer": "ipython3",
   "version": "3.10.9"
  }
 },
 "nbformat": 4,
 "nbformat_minor": 1
}
