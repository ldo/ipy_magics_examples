{
 "cells": [
  {
   "cell_type": "markdown",
   "metadata": {},
   "source": [
    "# Microtones #\n",
    "\n",
    "This notebook discusses musical scales based on subdividing the octave into something other than the traditional Western 12 equal parts. To run it, you will need my [ipy_magics](https://gitlab.com/ldo/ipy_magics), specifically `csound_magic.py` and `setvar_magic.py`. This uses [Csound](https://csound.com/) to generate the audio samples."
   ]
  },
  {
   "cell_type": "code",
   "execution_count": null,
   "metadata": {},
   "outputs": [],
   "source": [
    "# Edit this as appropriate for the correct paths to the Python modules\n",
    "%run ../ipy_magics/setvar_magic.py\n",
    "%run ../ipy_magics/csound_magic.py"
   ]
  },
  {
   "cell_type": "markdown",
   "metadata": {},
   "source": [
    "Define some common preamble to simplify writing the Csound scores:"
   ]
  },
  {
   "cell_type": "code",
   "execution_count": null,
   "metadata": {},
   "outputs": [],
   "source": [
    "%%setvar common_setup\n",
    "\n",
    "    <CsInstruments>\n",
    "\n",
    "        sr = 44100\n",
    "        ksmps = 32\n",
    "        nchnls = 1\n",
    "        0dbfs = 2\n",
    "\n",
    "        gibasekey = 31 ; G\n",
    "        ginterval = 12 ; default\n",
    "\n",
    "        opcode midifreq, k, kk\n",
    "        ; lets me express pitches in a more natural way, with separate\n",
    "        ; octave number and note within octave, offset by a global base\n",
    "        ; key.\n",
    "        koct, knote xin\n",
    "        kfreq = cpsmidinn(koct * 12 + knote * 12 / ginterval + gibasekey)\n",
    "        xout kfreq\n",
    "        endop\n",
    "\n",
    "        instr 1\n",
    "            kamp linseg 0, 0.02, 1, p3 - 0.04, 1, 0.02, 0\n",
    "            kfreq midifreq p4, p5\n",
    "            araw oscil kamp, kfreq\n",
    "            out araw\n",
    "        endin\n",
    "\n",
    "        instr 10\n",
    "            ; doesn’t produce any sound, but changes the number of\n",
    "            ; divisions in the octave.\n",
    "            ginterval = p4\n",
    "            prints \"%d divisions per octave\\n\", ginterval\n",
    "        endin\n",
    "\n",
    "    </CsInstruments>\n"
   ]
  },
  {
   "cell_type": "markdown",
   "metadata": {},
   "source": [
    "Based on the above instrument definitions, the following Python function generates an ascending and descending scale using the specified number of divisions in the octave:"
   ]
  },
  {
   "cell_type": "code",
   "execution_count": null,
   "metadata": {},
   "outputs": [],
   "source": [
    "def scale(divisions) :\n",
    "    # outputs notes for an ascending and descending scale\n",
    "    # over a single octave, with the specified number of\n",
    "    # divisions of the octave.\n",
    "    base_octave = 2\n",
    "    result = \\\n",
    "        [\n",
    "            \"i10 0 0 %d\" % divisions,\n",
    "            \"i1 0 1 %d 0\" % base_octave,\n",
    "        ]\n",
    "    for i in range(1, divisions) :\n",
    "        result.append(\"i1 + . %d %d\" % (base_octave, i))\n",
    "    #end for\n",
    "    result.append(\"i1 + . %d 0\" % (base_octave + 1))\n",
    "    for i in range(divisions, 0, -1) :\n",
    "        result.append(\"i1 + . %d %d\" % (base_octave, i - 1))\n",
    "    #end for\n",
    "    return \\\n",
    "        result\n",
    "#end scale"
   ]
  },
  {
   "cell_type": "markdown",
   "metadata": {},
   "source": [
    "To start with, the following generates the conventional 12-semitone scale:"
   ]
  },
  {
   "cell_type": "code",
   "execution_count": null,
   "metadata": {},
   "outputs": [],
   "source": [
    "%%csound\n",
    "<CsoundSynthesizer>\n",
    "\n",
    "%insval common_setup\n",
    "\n",
    "    <CsScore>\n",
    "        t0 180\n",
    "%insval scale(12)\n",
    "        e\n",
    "    </CsScore>\n",
    "\n",
    "</CsoundSynthesizer>\n"
   ]
  },
  {
   "cell_type": "markdown",
   "metadata": {},
   "source": [
    "Now let’s try quarter-tones:"
   ]
  },
  {
   "cell_type": "code",
   "execution_count": null,
   "metadata": {},
   "outputs": [],
   "source": [
    "%%csound\n",
    "<CsoundSynthesizer>\n",
    "\n",
    "%insval common_setup\n",
    "\n",
    "    <CsScore>\n",
    "        t0 180\n",
    "%insval scale(24)\n",
    "        e\n",
    "    </CsScore>\n",
    "\n",
    "</CsoundSynthesizer>\n"
   ]
  },
  {
   "cell_type": "markdown",
   "metadata": {},
   "source": [
    "What do other divisions sound like? Feel free to try different values."
   ]
  },
  {
   "cell_type": "code",
   "execution_count": null,
   "metadata": {},
   "outputs": [],
   "source": []
  }
 ],
 "metadata": {
  "kernelspec": {
   "display_name": "Python 3 (ipykernel)",
   "language": "python",
   "name": "python3"
  },
  "language_info": {
   "codemirror_mode": {
    "name": "ipython",
    "version": 3
   },
   "file_extension": ".py",
   "mimetype": "text/x-python",
   "name": "python",
   "nbconvert_exporter": "python",
   "pygments_lexer": "ipython3",
   "version": "3.10.4"
  }
 },
 "nbformat": 4,
 "nbformat_minor": 1
}
